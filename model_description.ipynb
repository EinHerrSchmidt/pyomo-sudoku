{
 "cells": [
  {
   "cell_type": "markdown",
   "metadata": {},
   "source": [
    "The model used to solve a generic instance of a 9 by 9 Sudoku is the following:\n",
    "$\\begin{align}\n",
    "    & \\max z = \\sum_{i \\in I}\\sum_{j \\in J}\\sum_{n \\in N} x_{ijn}        \n",
    "\\end{align}$\n",
    "$\\text{subject to:}\\\\$\n",
    "$\\begin{align}\n",
    "    & \\quad \\sum_{j=1}^{9} x_{ijn} = 1, \\forall i, \\forall n   \\\\\n",
    "    & \\quad \\sum_{i=1}^{9} x_{ijn} = 1, \\forall j, \\forall n   \\\\\n",
    "    & \\quad \\sum_{i=3r - 2}^{3r}\\sum_{j=3c - 2}^{3c} x_{ijn} = 1, \\forall n, \\forall r, \\forall c   \\\\\n",
    "    & \\quad \\sum_{n=1}^{9} x_{ijn} = 1, \\forall i, \\forall j   \\\\\n",
    "\\end{align}\n",
    "$\n",
    "where $i, j$ and $n$ vary in $\\{1, \\dots ,9\\}$, whereas $r$ and $c$ vary in $\\{1, \\dots ,3\\}$.\n",
    "The binary variables $x_{ijn}$ are equal to $1$ if cell $(i, j)$ takes value $n$, and $0$ otherwise.\n",
    "Constraints $(2)$ impose that each value $n$ appears only once in a row; constraints $(3)$ impose that each value $n$ appears only once in a column; constraints $(4)$ impose that each value $n$ appears only once in a $3$ by $3$ sub-square; finally, constraints $(5)$ impose that no values assignments overlap.\n",
    "Notice that the objective function in $(1)$ could also have been set constant. This formulation has been chosen in order not to cause Pyomo to emit warnings.\n",
    "A data.dat file is used to set parameters properly. Furthermore, it allows to fix some (or all, although it may not be useful) of the variables' values in order to solve a non-empty grid. This is done via parameter f."
   ]
  }
 ],
 "metadata": {
  "interpreter": {
   "hash": "7ad151a14bc03a29e9c8b392768a9fe3b288d39ced89c4237a881df884a496bb"
  },
  "kernelspec": {
   "display_name": "Python 3.9.10 64-bit (windows store)",
   "language": "python",
   "name": "python3"
  },
  "language_info": {
   "codemirror_mode": {
    "name": "ipython",
    "version": 3
   },
   "file_extension": ".py",
   "mimetype": "text/x-python",
   "name": "python",
   "nbconvert_exporter": "python",
   "pygments_lexer": "ipython3",
   "version": "3.9.10"
  },
  "orig_nbformat": 4
 },
 "nbformat": 4,
 "nbformat_minor": 2
}
